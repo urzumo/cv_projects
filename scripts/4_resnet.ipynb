{
 "cells": [
  {
   "cell_type": "markdown",
   "id": "1cc9dadd",
   "metadata": {},
   "source": [
    "# CNN НА АРХИТЕКТУРЕ RESNET50 (ADAM)"
   ]
  },
  {
   "cell_type": "code",
   "execution_count": 1,
   "id": "512c15d5",
   "metadata": {},
   "outputs": [],
   "source": [
    "# загрузим библиотеки\n",
    "import numpy as np\n",
    "\n",
    "from tensorflow.keras.applications.resnet import ResNet50\n",
    "from tensorflow.keras.preprocessing.image import ImageDataGenerator\n",
    "from tensorflow.keras.layers import Conv2D, Flatten, Dense, AvgPool2D, GlobalAveragePooling2D\n",
    "from tensorflow.keras import Sequential\n",
    "from tensorflow.keras.optimizers import Adam"
   ]
  },
  {
   "cell_type": "code",
   "execution_count": 2,
   "id": "cb68d1df",
   "metadata": {},
   "outputs": [],
   "source": [
    "# функция выгрузки обучающего сета через загрузчик\n",
    "def load_train(path):\n",
    "    train_datagen = ImageDataGenerator(rescale=1 / 255.,\n",
    "                                        vertical_flip=True,\n",
    "                                        horizontal_flip=True)\n",
    " \n",
    "    train_datagen_flow = train_datagen.flow_from_directory(\n",
    "        path,\n",
    "        target_size=(150, 150),\n",
    "        batch_size=16,\n",
    "        class_mode='sparse',\n",
    "        seed=12345)\n",
    "    return train_datagen_flow"
   ]
  },
  {
   "cell_type": "code",
   "execution_count": 3,
   "id": "d25f1893",
   "metadata": {},
   "outputs": [],
   "source": [
    "# функция создания модели\n",
    "def create_model(input_shape):\n",
    "    backbone = ResNet50(input_shape=input_shape,\n",
    "                    weights='/datasets/keras_models/resnet50_weights_tf_dim_ordering_tf_kernels_notop.h5',\n",
    "                    include_top=False)\n",
    " \n",
    "    model = Sequential()\n",
    "    model.add(backbone)\n",
    "    model.add(GlobalAveragePooling2D())\n",
    "    model.add(Dense(12, activation='softmax'))\n",
    " \n",
    "    optimizer = Adam(lr=0.0001)\n",
    "    model.compile(optimizer=optimizer, loss='sparse_categorical_crossentropy',\n",
    "                  metrics=['acc'])\n",
    " \n",
    "    return model"
   ]
  },
  {
   "cell_type": "code",
   "execution_count": 4,
   "id": "22e0a778",
   "metadata": {},
   "outputs": [],
   "source": [
    "# функция обучения модели\n",
    "def train_model(model, train_data, test_data, batch_size = None,\n",
    "                epochs = 5, steps_per_epoch = None, validation_steps = None):\n",
    "    if steps_per_epoch is None:\n",
    "        steps_per_epoch = len(train_data)\n",
    "    if validation_steps is None:\n",
    "        validation_steps = len(test_data)\n",
    "    model.fit(train_data,\n",
    "              validation_data=test_data,\n",
    "              batch_size = batch_size,\n",
    "              epochs = epochs,\n",
    "              steps_per_epoch=steps_per_epoch,\n",
    "              validation_steps=validation_steps,\n",
    "              verbose=2)\n",
    "    return model"
   ]
  }
 ],
 "metadata": {
  "kernelspec": {
   "display_name": "Python 3 (ipykernel)",
   "language": "python",
   "name": "python3"
  },
  "language_info": {
   "codemirror_mode": {
    "name": "ipython",
    "version": 3
   },
   "file_extension": ".py",
   "mimetype": "text/x-python",
   "name": "python",
   "nbconvert_exporter": "python",
   "pygments_lexer": "ipython3",
   "version": "3.7.11"
  },
  "toc": {
   "base_numbering": 1,
   "nav_menu": {},
   "number_sections": true,
   "sideBar": true,
   "skip_h1_title": true,
   "title_cell": "Table of Contents",
   "title_sidebar": "Contents",
   "toc_cell": false,
   "toc_position": {},
   "toc_section_display": true,
   "toc_window_display": true
  }
 },
 "nbformat": 4,
 "nbformat_minor": 5
}
