{
 "cells": [
  {
   "cell_type": "markdown",
   "id": "fb0b042b",
   "metadata": {},
   "source": [
    "# АУГМЕНТАЦИЯ CNN НА АРХИТЕКТУРЕ LENET"
   ]
  },
  {
   "cell_type": "code",
   "execution_count": 1,
   "id": "d13f7c56",
   "metadata": {},
   "outputs": [],
   "source": [
    "# загрузим библиотеки\n",
    "import numpy as np\n",
    "\n",
    "from tensorflow.keras import Sequential\n",
    "from tensorflow.keras.layers import Conv2D, Flatten, Dense, AvgPool2D\n",
    "from tensorflow.keras.optimizers import Adam\n",
    "from tensorflow.keras.preprocessing.image import ImageDataGenerator"
   ]
  },
  {
   "cell_type": "code",
   "execution_count": 2,
   "id": "4c63cde2",
   "metadata": {},
   "outputs": [],
   "source": [
    "# функция выгрузки обучающего сета через загрузчик\n",
    "def load_train(path):\n",
    "    train_datagen = ImageDataGenerator(rescale=1./255, horizontal_flip=True)\n",
    "    train_datagen_flow = train_datagen.flow_from_directory(\n",
    "        path,\n",
    "        target_size=(150, 150),\n",
    "        batch_size=16,\n",
    "        class_mode='sparse',\n",
    "        seed=42\n",
    "    )\n",
    "\n",
    "    return train_datagen_flow"
   ]
  },
  {
   "cell_type": "code",
   "execution_count": 3,
   "id": "094ad408",
   "metadata": {},
   "outputs": [],
   "source": [
    "# функция создания модели\n",
    "def create_model(input_shape):\n",
    "    model = Sequential()\n",
    "    model.add(Conv2D(filters=6, kernel_size=5, activation='relu',\n",
    "                                  padding='same', input_shape=input_shape))\n",
    "    model.add(AvgPool2D(pool_size=2, strides=2))\n",
    "    \n",
    "    model.add(Conv2D(filters=16, kernel_size=(5, 5), strides=(1,1), padding='valid', \n",
    "                    activation=\"relu\"))\n",
    "    model.add(AvgPool2D(pool_size=(2, 2), strides=(2,2), padding='valid'))\n",
    "    \n",
    "    model.add(Conv2D(filters=16, kernel_size=(5, 5), strides=(1,1),\n",
    "                    activation=\"relu\"))\n",
    "    model.add(AvgPool2D(pool_size=(2, 2), strides=(2,2)))\n",
    "    \n",
    "    model.add(Flatten())\n",
    "    model.add(Dense(units=64, activation='relu'))\n",
    "    model.add(Dense(units=32, activation='relu'))\n",
    "    model.add(Dense(units=12, activation='softmax'))\n",
    "\n",
    "    optimizer = Adam(lr=1e-3) \n",
    "    model.compile(optimizer=optimizer, loss='sparse_categorical_crossentropy',\n",
    "                  metrics=['acc'])\n",
    "    \n",
    "    return model"
   ]
  },
  {
   "cell_type": "code",
   "execution_count": 4,
   "id": "1def3a24",
   "metadata": {},
   "outputs": [],
   "source": [
    "# функция обучения модели\n",
    "def train_model(model, train_data, test_data, batch_size=None, epochs=10,\n",
    "                steps_per_epoch=None, validation_steps=None):\n",
    "\n",
    "    if steps_per_epoch is None:\n",
    "        steps_per_epoch = len(train_data)\n",
    "    if validation_steps is None:\n",
    "        validation_steps = len(test_data)\n",
    "\n",
    "    model.fit(train_data,\n",
    "              validation_data=test_data,\n",
    "              batch_size=batch_size, epochs=epochs,\n",
    "              steps_per_epoch=steps_per_epoch,\n",
    "              validation_steps=validation_steps,\n",
    "              verbose=2)\n",
    "\n",
    "    return model"
   ]
  }
 ],
 "metadata": {
  "kernelspec": {
   "display_name": "Python 3 (ipykernel)",
   "language": "python",
   "name": "python3"
  },
  "language_info": {
   "codemirror_mode": {
    "name": "ipython",
    "version": 3
   },
   "file_extension": ".py",
   "mimetype": "text/x-python",
   "name": "python",
   "nbconvert_exporter": "python",
   "pygments_lexer": "ipython3",
   "version": "3.7.11"
  },
  "toc": {
   "base_numbering": 1,
   "nav_menu": {},
   "number_sections": true,
   "sideBar": true,
   "skip_h1_title": true,
   "title_cell": "Table of Contents",
   "title_sidebar": "Contents",
   "toc_cell": false,
   "toc_position": {},
   "toc_section_display": true,
   "toc_window_display": true
  }
 },
 "nbformat": 4,
 "nbformat_minor": 5
}
