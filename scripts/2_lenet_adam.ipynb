{
 "cells": [
  {
   "cell_type": "markdown",
   "id": "77c27704",
   "metadata": {},
   "source": [
    "# CNN НА АРХИТЕКТУРЕ LENET (ADAM)"
   ]
  },
  {
   "cell_type": "code",
   "execution_count": 1,
   "id": "d13f7c56",
   "metadata": {},
   "outputs": [],
   "source": [
    "# загрузим библиотеки\n",
    "import numpy as np\n",
    "\n",
    "from tensorflow.keras import Sequential\n",
    "from tensorflow.keras.layers import Conv2D, Flatten, Dense, AvgPool2D\n",
    "from tensorflow.keras.optimizers import Adam"
   ]
  },
  {
   "cell_type": "code",
   "execution_count": 2,
   "id": "4c63cde2",
   "metadata": {},
   "outputs": [],
   "source": [
    "# функция выгрузки обучающего сета\n",
    "def load_train(path):\n",
    "    features_train = np.load(path + 'train_features.npy')\n",
    "    target_train = np.load(path + 'train_target.npy')\n",
    "    features_train = features_train.reshape(-1, 28, 28, 1) / 255.0\n",
    "    return features_train, target_train"
   ]
  },
  {
   "cell_type": "code",
   "execution_count": 3,
   "id": "c0fb9c14",
   "metadata": {},
   "outputs": [],
   "source": [
    "# функция создания модели\n",
    "def create_model(input_shape):\n",
    "    model = Sequential()    \n",
    "    model.add(Conv2D(filters=6, kernel_size=(5, 5), padding='same',\n",
    "                 activation=\"relu\", input_shape=(28, 28, 1)))\n",
    "    model.add(AvgPool2D(pool_size=(2, 2), strides=None, padding='valid'))\n",
    "    model.add(Conv2D(filters=16, kernel_size=(5, 5), padding='valid',\n",
    "                 activation=\"relu\", input_shape=(14, 14, 1)))\n",
    "    model.add(AvgPool2D(pool_size=(2, 2), strides=None, padding='valid'))\n",
    "    model.add(Flatten())\n",
    "    model.add(Dense(units=120, activation='relu'))\n",
    "    model.add(Dense(units=84, activation='relu'))\n",
    "    model.add(Dense(units=10, activation='softmax'))\n",
    "    optimizer = Adam(lr=3e-4)\n",
    "    model.compile(loss='sparse_categorical_crossentropy', \n",
    "                  optimizer=optimizer, metrics=['acc'])\n",
    "    return model"
   ]
  },
  {
   "cell_type": "code",
   "execution_count": 4,
   "id": "fac333af",
   "metadata": {},
   "outputs": [],
   "source": [
    "# функция обучения модели\n",
    "def train_model(model, train_data, test_data, batch_size=28, epochs=15,\n",
    "               steps_per_epoch=None, validation_steps=None):\n",
    " \n",
    "    features_train, target_train = train_data\n",
    "    features_test, target_test = test_data\n",
    "    model.fit(features_train, target_train, \n",
    "              validation_data=(features_test, target_test),\n",
    "              batch_size=batch_size, epochs=epochs,\n",
    "              steps_per_epoch=steps_per_epoch,\n",
    "              validation_steps=validation_steps,\n",
    "              verbose=2, shuffle=True)\n",
    "    return model"
   ]
  }
 ],
 "metadata": {
  "kernelspec": {
   "display_name": "Python 3 (ipykernel)",
   "language": "python",
   "name": "python3"
  },
  "language_info": {
   "codemirror_mode": {
    "name": "ipython",
    "version": 3
   },
   "file_extension": ".py",
   "mimetype": "text/x-python",
   "name": "python",
   "nbconvert_exporter": "python",
   "pygments_lexer": "ipython3",
   "version": "3.7.11"
  },
  "toc": {
   "base_numbering": 1,
   "nav_menu": {},
   "number_sections": true,
   "sideBar": true,
   "skip_h1_title": true,
   "title_cell": "Table of Contents",
   "title_sidebar": "Contents",
   "toc_cell": false,
   "toc_position": {},
   "toc_section_display": true,
   "toc_window_display": true
  }
 },
 "nbformat": 4,
 "nbformat_minor": 5
}
